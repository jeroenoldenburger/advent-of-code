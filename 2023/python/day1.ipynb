{
 "cells": [
  {
   "cell_type": "code",
   "execution_count": 8,
   "metadata": {},
   "outputs": [
    {
     "name": "stdout",
     "output_type": "stream",
     "text": [
      "56397\n"
     ]
    }
   ],
   "source": [
    "import re\n",
    "from common import get_file_path\n",
    "from common import iterate_input_lines\n",
    "\n",
    "total = 0\n",
    "for line in iterate_input_lines(get_file_path('day1.in')):\n",
    "    digit_chars = re.findall(\"\\d\", line)\n",
    "    if digit_chars:\n",
    "      value = int(digit_chars[0]+digit_chars[-1])\n",
    "      total = total + value\n",
    "\n",
    "print(total)"
   ]
  },
  {
   "cell_type": "code",
   "execution_count": 22,
   "metadata": {},
   "outputs": [
    {
     "name": "stdout",
     "output_type": "stream",
     "text": [
      "55701\n"
     ]
    }
   ],
   "source": [
    "\n",
    "replacements = {\n",
    "    'one':'one1one',\n",
    "    'two':'two2two',\n",
    "    'three':'three3three',\n",
    "    'four':'four4four',\n",
    "    'five':'five5five',\n",
    "    'six':'six6six',\n",
    "    'seven':'seven7seven',\n",
    "    'eight':'eight8eight',\n",
    "    'nine':'nine9nine'\n",
    "}\n",
    "\n",
    "def replace_spelled_out(line: str) -> str:\n",
    "    for key,value in replacements.items():\n",
    "       line = line.replace(key, value)\n",
    "    return line\n",
    "\n",
    "total = 0\n",
    "for line in iterate_input_lines(get_file_path('day1.in')):\n",
    "    corrected = replace_spelled_out(line)\n",
    "    #print(f'{line} -> {corrected}')\n",
    "    digit_chars = re.findall(\"\\d\", corrected)\n",
    "    if digit_chars:\n",
    "      value = int(digit_chars[0]+digit_chars[-1])\n",
    "      #print(value)\n",
    "      total = total + value\n",
    "\n",
    "print(total)\n"
   ]
  }
 ],
 "metadata": {
  "kernelspec": {
   "display_name": "Python 3",
   "language": "python",
   "name": "python3"
  },
  "language_info": {
   "codemirror_mode": {
    "name": "ipython",
    "version": 3
   },
   "file_extension": ".py",
   "mimetype": "text/x-python",
   "name": "python",
   "nbconvert_exporter": "python",
   "pygments_lexer": "ipython3",
   "version": "3.11.0"
  }
 },
 "nbformat": 4,
 "nbformat_minor": 2
}
