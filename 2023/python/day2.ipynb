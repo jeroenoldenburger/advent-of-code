{
 "cells": [
  {
   "cell_type": "code",
   "execution_count": 1,
   "metadata": {},
   "outputs": [],
   "source": [
    "from dataclasses import dataclass\n",
    "from typing import List\n",
    "from common import get_file_path\n",
    "from common import iterate_input_lines\n",
    "\n",
    "@dataclass\n",
    "class ShownKubes:\n",
    "    red: int\n",
    "    green: int\n",
    "    blue: int\n",
    "\n",
    "@dataclass\n",
    "class Game:\n",
    "    id: int\n",
    "    shownKubes: List[ShownKubes]"
   ]
  },
  {
   "cell_type": "code",
   "execution_count": 10,
   "metadata": {},
   "outputs": [
    {
     "data": {
      "text/plain": [
       "[Game(id=1, shownKubes=[ShownKubes(red=9, green=14, blue=8), ShownKubes(red=2, green=4, blue=5), ShownKubes(red=4, green=4, blue=4), ShownKubes(red=2, green=3, blue=1), ShownKubes(red=10, green=15, blue=3), ShownKubes(red=2, green=6, blue=3)]),\n",
       " Game(id=2, shownKubes=[ShownKubes(red=1, green=12, blue=2), ShownKubes(red=1, green=2, blue=1), ShownKubes(red=0, green=4, blue=2), ShownKubes(red=0, green=10, blue=3), ShownKubes(red=2, green=4, blue=2)]),\n",
       " Game(id=3, shownKubes=[ShownKubes(red=16, green=3, blue=0), ShownKubes(red=15, green=7, blue=3), ShownKubes(red=20, green=4, blue=1), ShownKubes(red=12, green=13, blue=1), ShownKubes(red=8, green=2, blue=1), ShownKubes(red=16, green=7, blue=0)]),\n",
       " Game(id=4, shownKubes=[ShownKubes(red=3, green=0, blue=7), ShownKubes(red=0, green=3, blue=4), ShownKubes(red=1, green=3, blue=19), ShownKubes(red=4, green=5, blue=16), ShownKubes(red=1, green=3, blue=19)]),\n",
       " Game(id=5, shownKubes=[ShownKubes(red=4, green=6, blue=7), ShownKubes(red=2, green=3, blue=6), ShownKubes(red=1, green=5, blue=11)]),\n",
       " Game(id=6, shownKubes=[ShownKubes(red=7, green=0, blue=13), ShownKubes(red=9, green=2, blue=7), ShownKubes(red=3, green=7, blue=12), ShownKubes(red=4, green=11, blue=3), ShownKubes(red=0, green=12, blue=10)]),\n",
       " Game(id=7, shownKubes=[ShownKubes(red=5, green=2, blue=0), ShownKubes(red=3, green=4, blue=1), ShownKubes(red=18, green=1, blue=1), ShownKubes(red=12, green=4, blue=1)]),\n",
       " Game(id=8, shownKubes=[ShownKubes(red=12, green=9, blue=11), ShownKubes(red=1, green=16, blue=13), ShownKubes(red=0, green=12, blue=12), ShownKubes(red=2, green=3, blue=7)]),\n",
       " Game(id=9, shownKubes=[ShownKubes(red=9, green=1, blue=9), ShownKubes(red=2, green=0, blue=4), ShownKubes(red=17, green=6, blue=3), ShownKubes(red=12, green=3, blue=1)]),\n",
       " Game(id=10, shownKubes=[ShownKubes(red=11, green=3, blue=2), ShownKubes(red=11, green=13, blue=4), ShownKubes(red=4, green=15, blue=4), ShownKubes(red=17, green=3, blue=1)]),\n",
       " Game(id=11, shownKubes=[ShownKubes(red=2, green=9, blue=3), ShownKubes(red=5, green=16, blue=11), ShownKubes(red=3, green=5, blue=7), ShownKubes(red=7, green=8, blue=10)]),\n",
       " Game(id=12, shownKubes=[ShownKubes(red=2, green=13, blue=2), ShownKubes(red=1, green=6, blue=0), ShownKubes(red=3, green=5, blue=8)]),\n",
       " Game(id=13, shownKubes=[ShownKubes(red=0, green=5, blue=2), ShownKubes(red=0, green=2, blue=2), ShownKubes(red=2, green=4, blue=2)]),\n",
       " Game(id=14, shownKubes=[ShownKubes(red=4, green=2, blue=1), ShownKubes(red=7, green=1, blue=0), ShownKubes(red=6, green=18, blue=4), ShownKubes(red=0, green=3, blue=1)]),\n",
       " Game(id=15, shownKubes=[ShownKubes(red=12, green=5, blue=2), ShownKubes(red=13, green=8, blue=0), ShownKubes(red=6, green=8, blue=10), ShownKubes(red=7, green=0, blue=9), ShownKubes(red=15, green=2, blue=0), ShownKubes(red=14, green=3, blue=9)]),\n",
       " Game(id=16, shownKubes=[ShownKubes(red=14, green=8, blue=11), ShownKubes(red=4, green=8, blue=0), ShownKubes(red=5, green=3, blue=4), ShownKubes(red=6, green=4, blue=13), ShownKubes(red=9, green=11, blue=8)]),\n",
       " Game(id=17, shownKubes=[ShownKubes(red=8, green=6, blue=0), ShownKubes(red=0, green=7, blue=5), ShownKubes(red=10, green=0, blue=6), ShownKubes(red=7, green=10, blue=9), ShownKubes(red=1, green=3, blue=5)]),\n",
       " Game(id=18, shownKubes=[ShownKubes(red=10, green=0, blue=8), ShownKubes(red=6, green=6, blue=5), ShownKubes(red=1, green=16, blue=6), ShownKubes(red=16, green=3, blue=5)]),\n",
       " Game(id=19, shownKubes=[ShownKubes(red=0, green=2, blue=17), ShownKubes(red=7, green=4, blue=2), ShownKubes(red=6, green=0, blue=12), ShownKubes(red=5, green=10, blue=6)]),\n",
       " Game(id=20, shownKubes=[ShownKubes(red=8, green=4, blue=9), ShownKubes(red=0, green=4, blue=6), ShownKubes(red=9, green=7, blue=5), ShownKubes(red=9, green=6, blue=9)]),\n",
       " Game(id=21, shownKubes=[ShownKubes(red=11, green=1, blue=2), ShownKubes(red=6, green=0, blue=7), ShownKubes(red=5, green=1, blue=0), ShownKubes(red=2, green=0, blue=7)]),\n",
       " Game(id=22, shownKubes=[ShownKubes(red=1, green=4, blue=8), ShownKubes(red=14, green=4, blue=6), ShownKubes(red=8, green=5, blue=9)]),\n",
       " Game(id=23, shownKubes=[ShownKubes(red=12, green=1, blue=4), ShownKubes(red=0, green=1, blue=10), ShownKubes(red=11, green=0, blue=2), ShownKubes(red=0, green=1, blue=1)]),\n",
       " Game(id=24, shownKubes=[ShownKubes(red=0, green=1, blue=5), ShownKubes(red=4, green=2, blue=2), ShownKubes(red=3, green=0, blue=5)]),\n",
       " Game(id=25, shownKubes=[ShownKubes(red=4, green=5, blue=13), ShownKubes(red=5, green=0, blue=17), ShownKubes(red=1, green=8, blue=6), ShownKubes(red=1, green=8, blue=2), ShownKubes(red=3, green=3, blue=0)]),\n",
       " Game(id=26, shownKubes=[ShownKubes(red=9, green=2, blue=2), ShownKubes(red=19, green=3, blue=0), ShownKubes(red=16, green=2, blue=6), ShownKubes(red=4, green=11, blue=4), ShownKubes(red=8, green=13, blue=2), ShownKubes(red=0, green=0, blue=7)]),\n",
       " Game(id=27, shownKubes=[ShownKubes(red=1, green=17, blue=1), ShownKubes(red=4, green=8, blue=0), ShownKubes(red=7, green=7, blue=1), ShownKubes(red=2, green=18, blue=0)]),\n",
       " Game(id=28, shownKubes=[ShownKubes(red=1, green=0, blue=6), ShownKubes(red=1, green=0, blue=2), ShownKubes(red=1, green=1, blue=5), ShownKubes(red=0, green=1, blue=0), ShownKubes(red=0, green=1, blue=3), ShownKubes(red=0, green=1, blue=1)]),\n",
       " Game(id=29, shownKubes=[ShownKubes(red=8, green=1, blue=15), ShownKubes(red=6, green=2, blue=17), ShownKubes(red=12, green=0, blue=13), ShownKubes(red=12, green=2, blue=12), ShownKubes(red=5, green=0, blue=14)]),\n",
       " Game(id=30, shownKubes=[ShownKubes(red=4, green=6, blue=4), ShownKubes(red=9, green=2, blue=3), ShownKubes(red=18, green=5, blue=0), ShownKubes(red=16, green=5, blue=9)]),\n",
       " Game(id=31, shownKubes=[ShownKubes(red=4, green=7, blue=6), ShownKubes(red=10, green=8, blue=6), ShownKubes(red=6, green=2, blue=2), ShownKubes(red=6, green=2, blue=4), ShownKubes(red=2, green=7, blue=0), ShownKubes(red=7, green=13, blue=2)]),\n",
       " Game(id=32, shownKubes=[ShownKubes(red=0, green=0, blue=5), ShownKubes(red=0, green=2, blue=8), ShownKubes(red=1, green=2, blue=6), ShownKubes(red=0, green=2, blue=11)]),\n",
       " Game(id=33, shownKubes=[ShownKubes(red=1, green=7, blue=17), ShownKubes(red=1, green=2, blue=14), ShownKubes(red=0, green=0, blue=13)]),\n",
       " Game(id=34, shownKubes=[ShownKubes(red=12, green=1, blue=1), ShownKubes(red=11, green=1, blue=1), ShownKubes(red=16, green=3, blue=0), ShownKubes(red=9, green=0, blue=1), ShownKubes(red=15, green=0, blue=2), ShownKubes(red=8, green=1, blue=4)]),\n",
       " Game(id=35, shownKubes=[ShownKubes(red=13, green=1, blue=6), ShownKubes(red=8, green=6, blue=9), ShownKubes(red=12, green=8, blue=0)]),\n",
       " Game(id=36, shownKubes=[ShownKubes(red=3, green=0, blue=5), ShownKubes(red=3, green=2, blue=0), ShownKubes(red=6, green=9, blue=1), ShownKubes(red=4, green=9, blue=3)]),\n",
       " Game(id=37, shownKubes=[ShownKubes(red=3, green=0, blue=14), ShownKubes(red=2, green=2, blue=8), ShownKubes(red=5, green=0, blue=11)]),\n",
       " Game(id=38, shownKubes=[ShownKubes(red=3, green=18, blue=2), ShownKubes(red=5, green=5, blue=0), ShownKubes(red=1, green=12, blue=6), ShownKubes(red=3, green=1, blue=5), ShownKubes(red=6, green=17, blue=4), ShownKubes(red=3, green=17, blue=6)]),\n",
       " Game(id=39, shownKubes=[ShownKubes(red=1, green=5, blue=13), ShownKubes(red=1, green=6, blue=12), ShownKubes(red=1, green=2, blue=11), ShownKubes(red=1, green=2, blue=12)]),\n",
       " Game(id=40, shownKubes=[ShownKubes(red=15, green=0, blue=0), ShownKubes(red=14, green=2, blue=4), ShownKubes(red=13, green=0, blue=5), ShownKubes(red=18, green=1, blue=5)]),\n",
       " Game(id=41, shownKubes=[ShownKubes(red=2, green=15, blue=0), ShownKubes(red=11, green=6, blue=17), ShownKubes(red=15, green=10, blue=9), ShownKubes(red=8, green=0, blue=4), ShownKubes(red=13, green=1, blue=13)]),\n",
       " Game(id=42, shownKubes=[ShownKubes(red=1, green=3, blue=3), ShownKubes(red=2, green=1, blue=8), ShownKubes(red=2, green=1, blue=7)]),\n",
       " Game(id=43, shownKubes=[ShownKubes(red=10, green=8, blue=4), ShownKubes(red=3, green=11, blue=10), ShownKubes(red=4, green=2, blue=5), ShownKubes(red=10, green=9, blue=4)]),\n",
       " Game(id=44, shownKubes=[ShownKubes(red=4, green=3, blue=4), ShownKubes(red=10, green=5, blue=4), ShownKubes(red=16, green=1, blue=0), ShownKubes(red=15, green=6, blue=2), ShownKubes(red=13, green=4, blue=2)]),\n",
       " Game(id=45, shownKubes=[ShownKubes(red=3, green=0, blue=5), ShownKubes(red=1, green=17, blue=3), ShownKubes(red=2, green=0, blue=3)]),\n",
       " Game(id=46, shownKubes=[ShownKubes(red=5, green=10, blue=9), ShownKubes(red=1, green=1, blue=5), ShownKubes(red=9, green=8, blue=6), ShownKubes(red=2, green=11, blue=4)]),\n",
       " Game(id=47, shownKubes=[ShownKubes(red=7, green=3, blue=7), ShownKubes(red=12, green=0, blue=1), ShownKubes(red=6, green=4, blue=6), ShownKubes(red=6, green=1, blue=5)]),\n",
       " Game(id=48, shownKubes=[ShownKubes(red=0, green=5, blue=1), ShownKubes(red=8, green=2, blue=4), ShownKubes(red=16, green=8, blue=12)]),\n",
       " Game(id=49, shownKubes=[ShownKubes(red=9, green=19, blue=4), ShownKubes(red=8, green=3, blue=1), ShownKubes(red=7, green=14, blue=1), ShownKubes(red=2, green=7, blue=2)]),\n",
       " Game(id=50, shownKubes=[ShownKubes(red=11, green=0, blue=6), ShownKubes(red=11, green=1, blue=8), ShownKubes(red=0, green=1, blue=5), ShownKubes(red=12, green=1, blue=4), ShownKubes(red=6, green=1, blue=8), ShownKubes(red=5, green=0, blue=7)]),\n",
       " Game(id=51, shownKubes=[ShownKubes(red=5, green=7, blue=0), ShownKubes(red=0, green=8, blue=0), ShownKubes(red=2, green=7, blue=4)]),\n",
       " Game(id=52, shownKubes=[ShownKubes(red=12, green=1, blue=3), ShownKubes(red=13, green=0, blue=1), ShownKubes(red=8, green=0, blue=7), ShownKubes(red=9, green=0, blue=7), ShownKubes(red=4, green=5, blue=0)]),\n",
       " Game(id=53, shownKubes=[ShownKubes(red=0, green=0, blue=2), ShownKubes(red=4, green=1, blue=12), ShownKubes(red=4, green=1, blue=7), ShownKubes(red=4, green=1, blue=8)]),\n",
       " Game(id=54, shownKubes=[ShownKubes(red=0, green=7, blue=2), ShownKubes(red=1, green=1, blue=2), ShownKubes(red=5, green=7, blue=5), ShownKubes(red=5, green=6, blue=5), ShownKubes(red=0, green=7, blue=0), ShownKubes(red=5, green=7, blue=2)]),\n",
       " Game(id=55, shownKubes=[ShownKubes(red=3, green=2, blue=20), ShownKubes(red=2, green=1, blue=1), ShownKubes(red=2, green=2, blue=14), ShownKubes(red=2, green=0, blue=11), ShownKubes(red=2, green=8, blue=4)]),\n",
       " Game(id=56, shownKubes=[ShownKubes(red=5, green=1, blue=10), ShownKubes(red=2, green=0, blue=1), ShownKubes(red=2, green=0, blue=1), ShownKubes(red=0, green=1, blue=8)]),\n",
       " Game(id=57, shownKubes=[ShownKubes(red=4, green=1, blue=5), ShownKubes(red=4, green=2, blue=20), ShownKubes(red=0, green=1, blue=17), ShownKubes(red=1, green=1, blue=10), ShownKubes(red=3, green=0, blue=17)]),\n",
       " Game(id=58, shownKubes=[ShownKubes(red=0, green=15, blue=2), ShownKubes(red=2, green=15, blue=4), ShownKubes(red=5, green=15, blue=14), ShownKubes(red=0, green=15, blue=0)]),\n",
       " Game(id=59, shownKubes=[ShownKubes(red=0, green=0, blue=1), ShownKubes(red=8, green=5, blue=1), ShownKubes(red=15, green=1, blue=2)]),\n",
       " Game(id=60, shownKubes=[ShownKubes(red=16, green=3, blue=4), ShownKubes(red=10, green=10, blue=6), ShownKubes(red=13, green=8, blue=2)]),\n",
       " Game(id=61, shownKubes=[ShownKubes(red=3, green=2, blue=2), ShownKubes(red=15, green=9, blue=7), ShownKubes(red=8, green=5, blue=1), ShownKubes(red=18, green=6, blue=4)]),\n",
       " Game(id=62, shownKubes=[ShownKubes(red=5, green=13, blue=7), ShownKubes(red=8, green=7, blue=6), ShownKubes(red=8, green=12, blue=6), ShownKubes(red=6, green=0, blue=2), ShownKubes(red=5, green=5, blue=4)]),\n",
       " Game(id=63, shownKubes=[ShownKubes(red=3, green=0, blue=0), ShownKubes(red=2, green=0, blue=5), ShownKubes(red=10, green=1, blue=4), ShownKubes(red=4, green=3, blue=5)]),\n",
       " Game(id=64, shownKubes=[ShownKubes(red=0, green=3, blue=7), ShownKubes(red=5, green=6, blue=14), ShownKubes(red=9, green=1, blue=12), ShownKubes(red=8, green=12, blue=1)]),\n",
       " Game(id=65, shownKubes=[ShownKubes(red=12, green=0, blue=12), ShownKubes(red=11, green=5, blue=12), ShownKubes(red=3, green=6, blue=14), ShownKubes(red=4, green=11, blue=1), ShownKubes(red=11, green=3, blue=2), ShownKubes(red=9, green=5, blue=13)]),\n",
       " Game(id=66, shownKubes=[ShownKubes(red=1, green=1, blue=0), ShownKubes(red=6, green=3, blue=3), ShownKubes(red=4, green=1, blue=6), ShownKubes(red=1, green=8, blue=0)]),\n",
       " Game(id=67, shownKubes=[ShownKubes(red=0, green=2, blue=8), ShownKubes(red=5, green=4, blue=7), ShownKubes(red=8, green=5, blue=5), ShownKubes(red=2, green=0, blue=1)]),\n",
       " Game(id=68, shownKubes=[ShownKubes(red=3, green=3, blue=14), ShownKubes(red=4, green=7, blue=16), ShownKubes(red=6, green=0, blue=10), ShownKubes(red=5, green=4, blue=3), ShownKubes(red=2, green=8, blue=14)]),\n",
       " Game(id=69, shownKubes=[ShownKubes(red=11, green=1, blue=0), ShownKubes(red=13, green=1, blue=4), ShownKubes(red=18, green=0, blue=3), ShownKubes(red=7, green=1, blue=9), ShownKubes(red=1, green=1, blue=5), ShownKubes(red=3, green=0, blue=4)]),\n",
       " Game(id=70, shownKubes=[ShownKubes(red=4, green=2, blue=10), ShownKubes(red=4, green=4, blue=2), ShownKubes(red=5, green=7, blue=1), ShownKubes(red=3, green=7, blue=10), ShownKubes(red=5, green=7, blue=2), ShownKubes(red=9, green=2, blue=1)]),\n",
       " Game(id=71, shownKubes=[ShownKubes(red=0, green=1, blue=6), ShownKubes(red=2, green=1, blue=10), ShownKubes(red=1, green=0, blue=8), ShownKubes(red=3, green=2, blue=11), ShownKubes(red=0, green=1, blue=10)]),\n",
       " Game(id=72, shownKubes=[ShownKubes(red=3, green=2, blue=10), ShownKubes(red=11, green=4, blue=3), ShownKubes(red=4, green=3, blue=1)]),\n",
       " Game(id=73, shownKubes=[ShownKubes(red=8, green=17, blue=3), ShownKubes(red=10, green=8, blue=5), ShownKubes(red=12, green=9, blue=3)]),\n",
       " Game(id=74, shownKubes=[ShownKubes(red=1, green=5, blue=4), ShownKubes(red=4, green=0, blue=6), ShownKubes(red=2, green=0, blue=0), ShownKubes(red=1, green=0, blue=2), ShownKubes(red=3, green=1, blue=3)]),\n",
       " Game(id=75, shownKubes=[ShownKubes(red=0, green=0, blue=4), ShownKubes(red=3, green=14, blue=10), ShownKubes(red=3, green=11, blue=8)]),\n",
       " Game(id=76, shownKubes=[ShownKubes(red=5, green=15, blue=10), ShownKubes(red=0, green=14, blue=0), ShownKubes(red=10, green=13, blue=6), ShownKubes(red=10, green=2, blue=6), ShownKubes(red=1, green=0, blue=6)]),\n",
       " Game(id=77, shownKubes=[ShownKubes(red=5, green=3, blue=8), ShownKubes(red=14, green=15, blue=0), ShownKubes(red=2, green=14, blue=1)]),\n",
       " Game(id=78, shownKubes=[ShownKubes(red=0, green=5, blue=5), ShownKubes(red=5, green=2, blue=9), ShownKubes(red=4, green=1, blue=4), ShownKubes(red=3, green=10, blue=2), ShownKubes(red=4, green=3, blue=12), ShownKubes(red=5, green=4, blue=13)]),\n",
       " Game(id=79, shownKubes=[ShownKubes(red=6, green=1, blue=18), ShownKubes(red=5, green=2, blue=11), ShownKubes(red=4, green=2, blue=4), ShownKubes(red=7, green=0, blue=17), ShownKubes(red=9, green=1, blue=3)]),\n",
       " Game(id=80, shownKubes=[ShownKubes(red=6, green=6, blue=5), ShownKubes(red=8, green=8, blue=2), ShownKubes(red=3, green=5, blue=16), ShownKubes(red=3, green=2, blue=1)]),\n",
       " Game(id=81, shownKubes=[ShownKubes(red=0, green=11, blue=5), ShownKubes(red=1, green=10, blue=1), ShownKubes(red=3, green=15, blue=3)]),\n",
       " Game(id=82, shownKubes=[ShownKubes(red=14, green=11, blue=0), ShownKubes(red=0, green=2, blue=11), ShownKubes(red=7, green=7, blue=9), ShownKubes(red=17, green=3, blue=13), ShownKubes(red=8, green=12, blue=15)]),\n",
       " Game(id=83, shownKubes=[ShownKubes(red=9, green=2, blue=4), ShownKubes(red=5, green=3, blue=4), ShownKubes(red=9, green=2, blue=7), ShownKubes(red=0, green=3, blue=4)]),\n",
       " Game(id=84, shownKubes=[ShownKubes(red=4, green=3, blue=6), ShownKubes(red=5, green=2, blue=2), ShownKubes(red=1, green=10, blue=6), ShownKubes(red=3, green=1, blue=1), ShownKubes(red=6, green=2, blue=16)]),\n",
       " Game(id=85, shownKubes=[ShownKubes(red=14, green=4, blue=6), ShownKubes(red=11, green=2, blue=6), ShownKubes(red=9, green=0, blue=0), ShownKubes(red=13, green=8, blue=3), ShownKubes(red=8, green=3, blue=2)]),\n",
       " Game(id=86, shownKubes=[ShownKubes(red=4, green=1, blue=0), ShownKubes(red=3, green=2, blue=14), ShownKubes(red=5, green=3, blue=5), ShownKubes(red=1, green=11, blue=13), ShownKubes(red=3, green=1, blue=14)]),\n",
       " Game(id=87, shownKubes=[ShownKubes(red=4, green=2, blue=1), ShownKubes(red=4, green=3, blue=11), ShownKubes(red=0, green=0, blue=11), ShownKubes(red=3, green=4, blue=11), ShownKubes(red=2, green=5, blue=4)]),\n",
       " Game(id=88, shownKubes=[ShownKubes(red=1, green=1, blue=1), ShownKubes(red=1, green=3, blue=1), ShownKubes(red=5, green=5, blue=9), ShownKubes(red=5, green=8, blue=3), ShownKubes(red=3, green=13, blue=2), ShownKubes(red=3, green=9, blue=8)]),\n",
       " Game(id=89, shownKubes=[ShownKubes(red=12, green=3, blue=11), ShownKubes(red=10, green=7, blue=14), ShownKubes(red=0, green=17, blue=9), ShownKubes(red=1, green=15, blue=3)]),\n",
       " Game(id=90, shownKubes=[ShownKubes(red=7, green=12, blue=5), ShownKubes(red=6, green=12, blue=1), ShownKubes(red=6, green=3, blue=0)]),\n",
       " Game(id=91, shownKubes=[ShownKubes(red=11, green=10, blue=15), ShownKubes(red=5, green=6, blue=2), ShownKubes(red=9, green=7, blue=3), ShownKubes(red=11, green=1, blue=15), ShownKubes(red=0, green=4, blue=10), ShownKubes(red=9, green=7, blue=14)]),\n",
       " Game(id=92, shownKubes=[ShownKubes(red=6, green=1, blue=4), ShownKubes(red=0, green=1, blue=5), ShownKubes(red=6, green=0, blue=6)]),\n",
       " Game(id=93, shownKubes=[ShownKubes(red=19, green=8, blue=9), ShownKubes(red=1, green=9, blue=7), ShownKubes(red=2, green=11, blue=9), ShownKubes(red=10, green=4, blue=1), ShownKubes(red=11, green=0, blue=10), ShownKubes(red=16, green=4, blue=8)]),\n",
       " Game(id=94, shownKubes=[ShownKubes(red=11, green=1, blue=1), ShownKubes(red=8, green=4, blue=0), ShownKubes(red=2, green=1, blue=0), ShownKubes(red=5, green=4, blue=0), ShownKubes(red=5, green=0, blue=1), ShownKubes(red=9, green=2, blue=1)]),\n",
       " Game(id=95, shownKubes=[ShownKubes(red=8, green=6, blue=7), ShownKubes(red=1, green=7, blue=0), ShownKubes(red=3, green=16, blue=2), ShownKubes(red=8, green=5, blue=10), ShownKubes(red=5, green=16, blue=3), ShownKubes(red=4, green=12, blue=10)]),\n",
       " Game(id=96, shownKubes=[ShownKubes(red=6, green=5, blue=6), ShownKubes(red=3, green=4, blue=5), ShownKubes(red=2, green=3, blue=2)]),\n",
       " Game(id=97, shownKubes=[ShownKubes(red=3, green=8, blue=0), ShownKubes(red=0, green=3, blue=2), ShownKubes(red=13, green=10, blue=3)]),\n",
       " Game(id=98, shownKubes=[ShownKubes(red=9, green=4, blue=2), ShownKubes(red=18, green=5, blue=1), ShownKubes(red=16, green=3, blue=0), ShownKubes(red=15, green=1, blue=2)]),\n",
       " Game(id=99, shownKubes=[ShownKubes(red=2, green=7, blue=5), ShownKubes(red=9, green=17, blue=19), ShownKubes(red=8, green=1, blue=12), ShownKubes(red=11, green=11, blue=10), ShownKubes(red=2, green=19, blue=4)]),\n",
       " Game(id=100, shownKubes=[ShownKubes(red=0, green=3, blue=4), ShownKubes(red=0, green=12, blue=5), ShownKubes(red=1, green=16, blue=1), ShownKubes(red=0, green=1, blue=2), ShownKubes(red=1, green=18, blue=3), ShownKubes(red=1, green=3, blue=3)])]"
      ]
     },
     "execution_count": 10,
     "metadata": {},
     "output_type": "execute_result"
    }
   ],
   "source": [
    "games: List[Game] = []\n",
    "for line in iterate_input_lines(get_file_path('day2.in')):\n",
    "    game_input, grabs_input = line.split(':')\n",
    "    game_id = int(game_input[5:])\n",
    "    game = Game(game_id, [])\n",
    "    grabs_list = grabs_input.split(\";\")\n",
    "    for grab in grabs_list:\n",
    "        shownKubes = ShownKubes(0,0,0)\n",
    "        kubes_by_color = grab.split(\",\")\n",
    "        for kube_input in kubes_by_color:\n",
    "            amount, color = kube_input.strip().split(\" \")\n",
    "            amount = int(amount)\n",
    "            if color == \"red\":\n",
    "                shownKubes.red = amount\n",
    "            elif color == \"green\":\n",
    "                shownKubes.green = amount\n",
    "            elif color == \"blue\":\n",
    "                shownKubes.blue = amount\n",
    "        game.shownKubes.append(shownKubes)\n",
    "    games.append(game)\n",
    "games"
   ]
  },
  {
   "cell_type": "code",
   "execution_count": 7,
   "metadata": {},
   "outputs": [
    {
     "name": "stdout",
     "output_type": "stream",
     "text": [
      "2256\n"
     ]
    }
   ],
   "source": [
    "constraint = ShownKubes(red=12,green=13,blue=14)\n",
    "\n",
    "possible_games:List[Game] = []    \n",
    "    \n",
    "for game in games:\n",
    "    for shownKubes in game.shownKubes:\n",
    "        if shownKubes.red > constraint.red or shownKubes.green > constraint.green or shownKubes.blue > constraint.blue:\n",
    "            break\n",
    "    else:\n",
    "        possible_games.append(game)\n",
    "\n",
    "total = sum([game.id for game in possible_games])\n",
    "print(total)"
   ]
  },
  {
   "cell_type": "code",
   "execution_count": 11,
   "metadata": {},
   "outputs": [
    {
     "name": "stdout",
     "output_type": "stream",
     "text": [
      "74229\n"
     ]
    }
   ],
   "source": [
    "power: int = 0\n",
    "for game in games:\n",
    "    max_red = max([ shownKubes.red for shownKubes in game.shownKubes])\n",
    "    max_green = max([ shownKubes.green for shownKubes in game.shownKubes])\n",
    "    max_blue = max([ shownKubes.blue for shownKubes in game.shownKubes])\n",
    "    power = power + max_red*max_green*max_blue\n",
    "\n",
    "print(power)"
   ]
  }
 ],
 "metadata": {
  "kernelspec": {
   "display_name": ".venv",
   "language": "python",
   "name": "python3"
  },
  "language_info": {
   "codemirror_mode": {
    "name": "ipython",
    "version": 3
   },
   "file_extension": ".py",
   "mimetype": "text/x-python",
   "name": "python",
   "nbconvert_exporter": "python",
   "pygments_lexer": "ipython3",
   "version": "3.11.0"
  }
 },
 "nbformat": 4,
 "nbformat_minor": 2
}
