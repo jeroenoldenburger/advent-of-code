{
 "cells": [
  {
   "cell_type": "code",
   "execution_count": null,
   "metadata": {},
   "outputs": [],
   "source": [
    "from common import get_file_path\n",
    "from common import iterate_input_lines\n",
    "from typing import List"
   ]
  },
  {
   "cell_type": "code",
   "execution_count": null,
   "metadata": {},
   "outputs": [],
   "source": [
    "def is_symbol(char: str) -> bool:\n",
    "   return not char.isdigit() and not char == \".\"\n",
    "\n",
    "\n",
    "def check_adjacency(char_grid):\n",
    "    '''\n",
    "    char_grid of 3 x 3 chars\n",
    "    a b d\n",
    "    k l m\n",
    "    x y z\n",
    "\n",
    "    checks whether char l has any adjacent symbols\n",
    "    '''\n",
    "    if len(char_grid):\n",
    "        for ch in char_grid[0]:\n",
    "            if is_symbol(ch):\n",
    "                return True\n",
    "    if is_symbol(char_grid[1][0]):\n",
    "        return True\n",
    "    if len(char_grid[1]) > 2 and is_symbol(char_grid[1][2]):\n",
    "        return True\n",
    "    if len(char_grid) > 2:\n",
    "        for ch in char_grid[2]:\n",
    "            if is_symbol(ch):\n",
    "                return True\n",
    "    return False"
   ]
  },
  {
   "cell_type": "code",
   "execution_count": null,
   "metadata": {},
   "outputs": [],
   "source": [
    "def check_lines(lines: List[str]):\n",
    "    '''\n",
    "    lines of 3 string\n",
    "    a b c d e f g\n",
    "    k l m n o p q\n",
    "    t u v w x y z\n",
    "\n",
    "    checks the middle line for adjacent numbers\n",
    "    '''\n",
    "    line_to_check = lines[1]\n",
    "    chars_for_number = \"\"\n",
    "    is_adjacent = False\n",
    "    for x, char in enumerate(line_to_check):\n",
    "        if not is_adjacent:\n",
    "            min_x = max(0, x-1)\n",
    "            max_x = min(x+1, len(line_to_check))\n",
    "            grid_to_check = [\n",
    "                line[min_x: max_x]\n",
    "                for line in lines\n",
    "            ]\n",
    "            is_adjacent = check_adjacency(grid_to_check)\n",
    "        char_to_check = line_to_check[x]\n",
    "        if char_to_check.isdigit():\n",
    "            chars_for_number += char_to_check\n",
    "        else:\n",
    "            if chars_for_number and is_adjacent:\n",
    "                adjacent_numbers.append(int(chars_for_number))\n",
    "            chars_for_number = \"\"\n",
    "            is_adjacent = False"
   ]
  },
  {
   "cell_type": "code",
   "execution_count": 11,
   "metadata": {},
   "outputs": [],
   "source": [
    "adjacent_numbers: List[int] = []\n",
    "lines_to_check: List[str]\n",
    "dummy_line: str\n",
    "for y, line in enumerate(iterate_input_lines(get_file_path('day3.example'), ignore_commented_lines=False)):\n",
    "    if y == 0:\n",
    "        # the check lines functions works with list of three lines, which are not available to the moment\n",
    "        dummy_line = \".\" * len(line)\n",
    "        lines_to_check = [dummy_line, dummy_line]\n",
    "    lines_to_check.append(line)\n",
    "    lines_to_check = lines_to_check[-3:]\n",
    "    # only after reading the second line we have enough info to determine adjacency\n",
    "    if y > 0:\n",
    "        check_lines(lines_to_check)\n",
    "# the last line still needs to be checked\n",
    "lines_to_check.append(dummy_line)\n",
    "lines_to_check = lines_to_check[-3:]\n",
    "check_lines(lines_to_check)\n"
   ]
  }
 ],
 "metadata": {
  "kernelspec": {
   "display_name": ".venv",
   "language": "python",
   "name": "python3"
  },
  "language_info": {
   "codemirror_mode": {
    "name": "ipython",
    "version": 3
   },
   "file_extension": ".py",
   "mimetype": "text/x-python",
   "name": "python",
   "nbconvert_exporter": "python",
   "pygments_lexer": "ipython3",
   "version": "3.11.0"
  }
 },
 "nbformat": 4,
 "nbformat_minor": 2
}
